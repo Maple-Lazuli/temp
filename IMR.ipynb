{
 "cells": [
  {
   "cell_type": "code",
   "execution_count": 1,
   "id": "868e3abd",
   "metadata": {},
   "outputs": [],
   "source": [
    "import pandas as pd\n",
    "from random import randint"
   ]
  },
  {
   "cell_type": "code",
   "execution_count": 2,
   "id": "fe8b601a",
   "metadata": {},
   "outputs": [],
   "source": [
    "def create_guardian():\n",
    "    return {'Dental':randint(0,20), 'Flu':randint(0,10), 'PHA':randint(0,15), 'MHA':randint(0,15), 'Team':randint(1,4)}"
   ]
  },
  {
   "cell_type": "code",
   "execution_count": 3,
   "id": "9373d7d5",
   "metadata": {},
   "outputs": [],
   "source": [
    "df1 = pd.DataFrame.from_dict([create_guardian() for _ in range(50)])\n",
    "df1['year'] = 2023\n",
    "df2 = pd.DataFrame.from_dict([create_guardian() for _ in range(50)])\n",
    "df2['year'] = 2024\n",
    "df = pd.concat([df1, df2])"
   ]
  },
  {
   "cell_type": "code",
   "execution_count": 4,
   "id": "439235fb",
   "metadata": {},
   "outputs": [],
   "source": [
    "def shift(r, criteria, value, amounts):\n",
    "    if r[criteria[0]] == criteria[1]:\n",
    "        r[value] = r[value] * amounts[0]\n",
    "    else:\n",
    "        r[value] = r[value] * amounts[1]\n",
    "    return r"
   ]
  },
  {
   "cell_type": "code",
   "execution_count": 5,
   "id": "a1696127",
   "metadata": {},
   "outputs": [],
   "source": [
    "df = df.apply(lambda r: shift(r, ('Team', 2), 'Dental', (1.75, .9)), axis=1)"
   ]
  },
  {
   "cell_type": "code",
   "execution_count": 6,
   "id": "4e190930",
   "metadata": {},
   "outputs": [],
   "source": [
    "df = df.apply(lambda r: shift(r, ('year', 2024), 'Flu', (1.25, .8)), axis=1)"
   ]
  },
  {
   "cell_type": "code",
   "execution_count": 7,
   "id": "f067031d",
   "metadata": {},
   "outputs": [],
   "source": [
    "df.to_csv(\"imr.csv\", index=False)"
   ]
  },
  {
   "cell_type": "code",
   "execution_count": null,
   "id": "4d7430ba",
   "metadata": {},
   "outputs": [],
   "source": []
  }
 ],
 "metadata": {
  "kernelspec": {
   "display_name": "Python 3 (ipykernel)",
   "language": "python",
   "name": "python3"
  },
  "language_info": {
   "codemirror_mode": {
    "name": "ipython",
    "version": 3
   },
   "file_extension": ".py",
   "mimetype": "text/x-python",
   "name": "python",
   "nbconvert_exporter": "python",
   "pygments_lexer": "ipython3",
   "version": "3.10.12"
  }
 },
 "nbformat": 4,
 "nbformat_minor": 5
}
