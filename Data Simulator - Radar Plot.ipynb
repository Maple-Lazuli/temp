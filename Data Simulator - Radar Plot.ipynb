{
 "cells": [
  {
   "cell_type": "code",
   "execution_count": 1,
   "id": "489c0e81",
   "metadata": {},
   "outputs": [],
   "source": [
    "import pandas as pd\n",
    "from random import randint"
   ]
  },
  {
   "cell_type": "code",
   "execution_count": 2,
   "id": "2f65e3ce",
   "metadata": {},
   "outputs": [],
   "source": [
    "def create_guardian():\n",
    "    strong_trait = randint(1,5)\n",
    "    trait_dict =  {\n",
    "        'Leadership': randint(1,5),\n",
    "        'Experience': randint(1,5),\n",
    "        'Skill':randint(1,5),\n",
    "        'Domain Knowledge':randint(1,5),\n",
    "        'Team Work': randint(1,5)\n",
    "    }\n",
    "    for idx, val in enumerate(trait_dict.keys()):\n",
    "        if idx == strong_trait:\n",
    "            trait_dict[val] = trait_dict[val]*1.75\n",
    "        else:\n",
    "            trait_dict[val] = trait_dict[val]*.75\n",
    "    return trait_dict"
   ]
  },
  {
   "cell_type": "code",
   "execution_count": 3,
   "id": "982c21c9",
   "metadata": {},
   "outputs": [],
   "source": [
    "guardians = [create_guardian() for _ in range(9)]"
   ]
  },
  {
   "cell_type": "code",
   "execution_count": 4,
   "id": "84b68155",
   "metadata": {},
   "outputs": [],
   "source": [
    "df = pd.DataFrame.from_dict(guardians)"
   ]
  },
  {
   "cell_type": "code",
   "execution_count": 5,
   "id": "037930df",
   "metadata": {},
   "outputs": [],
   "source": [
    "df['Names'] = df.index + 1"
   ]
  },
  {
   "cell_type": "code",
   "execution_count": 6,
   "id": "212485d3",
   "metadata": {},
   "outputs": [],
   "source": [
    "df['Names'] = df['Names'].apply(lambda x: f'Guardian {x}')"
   ]
  },
  {
   "cell_type": "code",
   "execution_count": 7,
   "id": "eb7d37bf",
   "metadata": {},
   "outputs": [
    {
     "data": {
      "text/html": [
       "<div>\n",
       "<style scoped>\n",
       "    .dataframe tbody tr th:only-of-type {\n",
       "        vertical-align: middle;\n",
       "    }\n",
       "\n",
       "    .dataframe tbody tr th {\n",
       "        vertical-align: top;\n",
       "    }\n",
       "\n",
       "    .dataframe thead th {\n",
       "        text-align: right;\n",
       "    }\n",
       "</style>\n",
       "<table border=\"1\" class=\"dataframe\">\n",
       "  <thead>\n",
       "    <tr style=\"text-align: right;\">\n",
       "      <th></th>\n",
       "      <th>Leadership</th>\n",
       "      <th>Experience</th>\n",
       "      <th>Skill</th>\n",
       "      <th>Domain Knowledge</th>\n",
       "      <th>Team Work</th>\n",
       "      <th>Names</th>\n",
       "    </tr>\n",
       "  </thead>\n",
       "  <tbody>\n",
       "    <tr>\n",
       "      <th>0</th>\n",
       "      <td>3.75</td>\n",
       "      <td>3.75</td>\n",
       "      <td>3.00</td>\n",
       "      <td>3.50</td>\n",
       "      <td>2.25</td>\n",
       "      <td>Guardian 1</td>\n",
       "    </tr>\n",
       "    <tr>\n",
       "      <th>1</th>\n",
       "      <td>2.25</td>\n",
       "      <td>3.00</td>\n",
       "      <td>3.00</td>\n",
       "      <td>3.00</td>\n",
       "      <td>0.75</td>\n",
       "      <td>Guardian 2</td>\n",
       "    </tr>\n",
       "    <tr>\n",
       "      <th>2</th>\n",
       "      <td>3.75</td>\n",
       "      <td>1.50</td>\n",
       "      <td>2.25</td>\n",
       "      <td>1.50</td>\n",
       "      <td>3.50</td>\n",
       "      <td>Guardian 3</td>\n",
       "    </tr>\n",
       "    <tr>\n",
       "      <th>3</th>\n",
       "      <td>1.50</td>\n",
       "      <td>7.00</td>\n",
       "      <td>1.50</td>\n",
       "      <td>2.25</td>\n",
       "      <td>0.75</td>\n",
       "      <td>Guardian 4</td>\n",
       "    </tr>\n",
       "    <tr>\n",
       "      <th>4</th>\n",
       "      <td>3.75</td>\n",
       "      <td>2.25</td>\n",
       "      <td>7.00</td>\n",
       "      <td>3.75</td>\n",
       "      <td>2.25</td>\n",
       "      <td>Guardian 5</td>\n",
       "    </tr>\n",
       "  </tbody>\n",
       "</table>\n",
       "</div>"
      ],
      "text/plain": [
       "   Leadership  Experience  Skill  Domain Knowledge  Team Work       Names\n",
       "0        3.75        3.75   3.00              3.50       2.25  Guardian 1\n",
       "1        2.25        3.00   3.00              3.00       0.75  Guardian 2\n",
       "2        3.75        1.50   2.25              1.50       3.50  Guardian 3\n",
       "3        1.50        7.00   1.50              2.25       0.75  Guardian 4\n",
       "4        3.75        2.25   7.00              3.75       2.25  Guardian 5"
      ]
     },
     "execution_count": 7,
     "metadata": {},
     "output_type": "execute_result"
    }
   ],
   "source": [
    "df.head()"
   ]
  },
  {
   "cell_type": "code",
   "execution_count": 9,
   "id": "257cbcd7",
   "metadata": {},
   "outputs": [],
   "source": [
    "df.to_csv('radar.csv', index=False)"
   ]
  },
  {
   "cell_type": "code",
   "execution_count": null,
   "id": "d4a230d4",
   "metadata": {},
   "outputs": [],
   "source": []
  }
 ],
 "metadata": {
  "kernelspec": {
   "display_name": "Python 3 (ipykernel)",
   "language": "python",
   "name": "python3"
  },
  "language_info": {
   "codemirror_mode": {
    "name": "ipython",
    "version": 3
   },
   "file_extension": ".py",
   "mimetype": "text/x-python",
   "name": "python",
   "nbconvert_exporter": "python",
   "pygments_lexer": "ipython3",
   "version": "3.10.12"
  }
 },
 "nbformat": 4,
 "nbformat_minor": 5
}
